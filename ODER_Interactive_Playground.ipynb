{
  "nbformat": 4,
  "nbformat_minor": 0,
  "metadata": {
    "colab": {
      "provenance": []
    },
    "kernelspec": {
      "name": "python3",
      "display_name": "Python 3"
    },
    "language_info": {
      "name": "python"
    }
  },
  "cells": [
    {
      "cell_type": "markdown",
      "source": [
        "# Enhanced ODER Interactive Playground\n",
        "Purpose: Interactive companion to main ODER paper with comprehensive validation\n",
        "\n",
        "\n",
        "\n",
        "\n",
        "\n",
        "\n"
      ],
      "metadata": {
        "id": "N6y5O-Zd2Yjp"
      }
    },
    {
      "cell_type": "code",
      "execution_count": 1,
      "metadata": {
        "id": "aXY0kTrO1Wn3"
      },
      "outputs": [],
      "source": [
        "import numpy as np\n",
        "import matplotlib.pyplot as plt\n",
        "from scipy.optimize import curve_fit\n",
        "from sklearn.metrics import r2_score\n",
        "import json\n",
        "from datetime import datetime\n",
        "import warnings\n",
        "warnings.filterwarnings('ignore')\n"
      ]
    },
    {
      "cell_type": "markdown",
      "source": [
        "# 1. Enhanced Setup and Configuration"
      ],
      "metadata": {
        "id": "UZFcGUqV2swE"
      }
    },
    {
      "cell_type": "code",
      "source": [
        "# Enhanced configuration\n",
        "TOKEN_DURATION_MS = 400\n",
        "COLLAPSE_THRESHOLD = 0.95\n",
        "SLOPE_CUTOFF = 0.01\n",
        "N_BOOTSTRAP = 100  # Lighter for interactive use\n",
        "\n",
        "print(\"🚀 Enhanced ODER Interactive Playground\")\n",
        "print(\"=\" * 50)\n",
        "print(\"Features: Advanced diagnostics, observer comparison, comprehensive stress testing\")\n"
      ],
      "metadata": {
        "colab": {
          "base_uri": "https://localhost:8080/"
        },
        "id": "ge1AVGM52ubV",
        "outputId": "4426296f-d10b-4414-a981-886f32e32566"
      },
      "execution_count": 2,
      "outputs": [
        {
          "output_type": "stream",
          "name": "stdout",
          "text": [
            "🚀 Enhanced ODER Interactive Playground\n",
            "==================================================\n",
            "Features: Advanced diagnostics, observer comparison, comprehensive stress testing\n"
          ]
        }
      ]
    },
    {
      "cell_type": "markdown",
      "source": [
        "# 2. User Input with Enhanced Options"
      ],
      "metadata": {
        "id": "4XIgoa4X2zCd"
      }
    },
    {
      "cell_type": "code",
      "source": [
        "# Enhanced user entry with validation\n",
        "user_sentence = \"The old man the boats.\"  # Or via input()\n",
        "user_language = \"English\"  # or \"Aurian\"\n",
        "observer_class = \"O3\"  # Options: \"O1\", \"O3\"\n",
        "collapse_threshold = 0.95\n",
        "token_duration_ms = 400\n",
        "stress_test = True\n",
        "run_comparison_mode = True  # New: Compare O1 vs O3\n",
        "export_session = True  # New: Export for further analysis\n",
        "\n",
        "print(f\"📝 Input sentence: '{user_sentence}'\")\n",
        "print(f\"🌍 Language: {user_language}\")\n",
        "print(f\"👤 Observer class: {observer_class}\")\n",
        "print(f\"🔬 Comparison mode: {'Enabled' if run_comparison_mode else 'Disabled'}\")\n"
      ],
      "metadata": {
        "colab": {
          "base_uri": "https://localhost:8080/"
        },
        "id": "gP8WCHHR22-x",
        "outputId": "66a5bf26-77e0-4bad-b564-c0237c72fc05"
      },
      "execution_count": 3,
      "outputs": [
        {
          "output_type": "stream",
          "name": "stdout",
          "text": [
            "📝 Input sentence: 'The old man the boats.'\n",
            "🌍 Language: English\n",
            "👤 Observer class: O3\n",
            "🔬 Comparison mode: Enabled\n"
          ]
        }
      ]
    },
    {
      "cell_type": "markdown",
      "source": [
        "# 3. Enhanced Prompt Injection (Simulated)"
      ],
      "metadata": {
        "id": "rOSCOi_P28NN"
      }
    },
    {
      "cell_type": "code",
      "source": [
        "observer_prompts = {\n",
        "\t\"O1\": \"You are a linguistic expert with full fluency and rapid processing.\",\n",
        "\t\"O3\": \"You are reading in a partially familiar language with limited context and slower processing.\"\n",
        "}\n",
        "prompt_used = observer_prompts[observer_class]\n",
        "\n",
        "print(f\"🤖 Observer prompt: {prompt_used}\")"
      ],
      "metadata": {
        "colab": {
          "base_uri": "https://localhost:8080/"
        },
        "id": "dtdEmyxw2_0t",
        "outputId": "0f8e8553-9765-4c97-e6dc-cb9a2e83f71a"
      },
      "execution_count": 4,
      "outputs": [
        {
          "output_type": "stream",
          "name": "stdout",
          "text": [
            "🤖 Observer prompt: You are reading in a partially familiar language with limited context and slower processing.\n"
          ]
        }
      ]
    },
    {
      "cell_type": "markdown",
      "source": [
        "# 4. Enhanced Entropy Generation with Linguistic Realism"
      ],
      "metadata": {
        "id": "0_jKKPaL3Gtk"
      }
    },
    {
      "cell_type": "code",
      "source": [
        "def calculate_aurian_lhier(text):\n",
        "    \"\"\"Calculate Lhier (hierarchical complexity) for Aurian sentences\"\"\"\n",
        "    aurian_lexicon = {\n",
        "        'kem': 0, 'vora': 1, 'sul': 2, 'daz': 2, 'fel': 0,\n",
        "        'ren': 1, 'tir': 0, 'mek': 1, 'poli': 1, 'zul': 1\n",
        "    }\n",
        "\n",
        "    tokens = text.lower().replace('.', '').split()\n",
        "    total_complexity = sum(aurian_lexicon.get(token, 1) for token in tokens)\n",
        "    return total_complexity\n",
        "\n",
        "def generate_realistic_entropy(sentence, observer_class, language):\n",
        "    \"\"\"Enhanced entropy generation with observer-dependent patterns\"\"\"\n",
        "    tokens = sentence.split()\n",
        "\n",
        "    if language == \"Aurian\":\n",
        "        complexity = calculate_aurian_lhier(sentence)\n",
        "        base_decline = 0.8 / len(tokens)\n",
        "        complexity_factor = 1.0 + (complexity * 0.05)\n",
        "    else:\n",
        "        # Enhanced garden path detection\n",
        "        garden_path_markers = [\"man the\", \"raced past\", \"time flies\", \"horse raced\"]\n",
        "        is_garden_path = any(marker in sentence.lower() for marker in garden_path_markers)\n",
        "        base_decline = 0.9 / len(tokens) if not is_garden_path else 0.7 / len(tokens)\n",
        "        complexity_factor = 1.2 if is_garden_path else 1.0\n",
        "\n",
        "    # Enhanced observer bias with complexity interaction\n",
        "    base_observer_bias = 0.0 if observer_class == \"O1\" else 0.15\n",
        "    observer_bias = base_observer_bias * complexity_factor\n",
        "\n",
        "    entropy_trace = []\n",
        "    for i in range(len(tokens)):\n",
        "        base_entropy = 0.9 - (i * base_decline)\n",
        "\n",
        "        # Add garden path spike if applicable\n",
        "        if language == \"English\" and any(marker in sentence.lower() for marker in garden_path_markers):\n",
        "            if i == len(tokens) - 2:  # Reanalysis point\n",
        "                spike_magnitude = 0.3 if observer_class == \"O3\" else 0.15\n",
        "                base_entropy += spike_magnitude\n",
        "\n",
        "        final_entropy = max(0.05, base_entropy + observer_bias)\n",
        "        entropy_trace.append(final_entropy)\n",
        "\n",
        "    return entropy_trace"
      ],
      "metadata": {
        "id": "dex5v_kd3JRI"
      },
      "execution_count": 6,
      "outputs": []
    },
    {
      "cell_type": "markdown",
      "source": [
        "# 5. ODER and Enhanced Baseline Models"
      ],
      "metadata": {
        "id": "eEggL7D33fzl"
      }
    },
    {
      "cell_type": "code",
      "source": [
        "def oder_model(t, gamma, tau_char, S_max=1.0):\n",
        "\t\"\"\"ODER retrieval function\"\"\"\n",
        "\treturn S_max * (1 - np.exp(-gamma * t * np.tanh(t / tau_char)))\n",
        "\n",
        "def linear_model(t, alpha):\n",
        "\t\"\"\"Linear baseline model\"\"\"\n",
        "\treturn alpha * t\n",
        "\n",
        "def exponential_model(t, tau, S_max=1.0):\n",
        "\t\"\"\"Exponential baseline model\"\"\"\n",
        "\treturn S_max * (1 - np.exp(-t / tau))\n",
        "\n",
        "def power_law_model(t, beta, S_max=1.0):\n",
        "\t\"\"\"Power law baseline model\"\"\"\n",
        "\treturn S_max * (1 - t**(-beta))\n"
      ],
      "metadata": {
        "id": "0ctt7LQK3jik"
      },
      "execution_count": 7,
      "outputs": []
    },
    {
      "cell_type": "markdown",
      "source": [
        "# 6. Enhanced Model Fitting with Advanced Diagnostics"
      ],
      "metadata": {
        "id": "gykxEsT43niO"
      }
    },
    {
      "cell_type": "code",
      "source": [
        "def fit_and_compare_models_enhanced(t, S_ret_vals):\n",
        "    \"\"\"Enhanced model fitting with comprehensive diagnostics\"\"\"\n",
        "    results = {}\n",
        "\n",
        "    # Enhanced ODER fitting with broader parameter space\n",
        "    try:\n",
        "        popt_oder, pcov = curve_fit(\n",
        "            oder_model, t, S_ret_vals,\n",
        "            bounds=([0.001, 0.01], [5.0, 200.0]),\n",
        "            p0=[0.3, 10.0],\n",
        "            maxfev=5000\n",
        "        )\n",
        "        gamma, tau_char = popt_oder\n",
        "\n",
        "        # Enhanced error estimation\n",
        "        if pcov.shape == (2, 2) and np.all(np.isfinite(pcov)):\n",
        "            gamma_err, tau_err = np.sqrt(np.diag(pcov))\n",
        "        else:\n",
        "            gamma_err, tau_err = 0, 0\n",
        "\n",
        "        S_fit_oder = oder_model(t, gamma, tau_char)\n",
        "        r2_oder = r2_score(S_ret_vals, S_fit_oder)\n",
        "        mse_oder = np.mean((S_ret_vals - S_fit_oder)**2)\n",
        "\n",
        "        # Information criteria\n",
        "        n = len(S_ret_vals)\n",
        "        aic_oder = n * np.log(mse_oder) + 2 * 2  # 2 parameters\n",
        "        bic_oder = n * np.log(mse_oder) + np.log(n) * 2\n",
        "\n",
        "        results[\"ODER\"] = {\n",
        "            \"fit\": S_fit_oder,\n",
        "            \"params\": (gamma, tau_char),\n",
        "            \"errors\": (gamma_err, tau_err),\n",
        "            \"R²\": r2_oder,\n",
        "            \"MSE\": mse_oder,\n",
        "            \"AIC\": aic_oder,\n",
        "            \"BIC\": bic_oder,\n",
        "            \"fit_success\": True\n",
        "        }\n",
        "    except Exception as e:\n",
        "        print(f\"⚠️ ODER fit failed: {e}\")\n",
        "        results[\"ODER\"] = {\n",
        "            \"fit_success\": False, \"R²\": 0, \"AIC\": np.inf, \"BIC\": np.inf,\n",
        "            \"params\": (np.nan, np.nan), \"errors\": (np.nan, np.nan)\n",
        "        }\n",
        "\n",
        "    # Enhanced baseline models\n",
        "    baseline_models = [\n",
        "        (\"Linear\", linear_model, [0.1], [2.0]),\n",
        "        (\"Exponential\", exponential_model, [0.1], [100]),\n",
        "        (\"PowerLaw\", power_law_model, [0.1], [10])\n",
        "    ]\n",
        "\n",
        "    for name, model_func, lower_bounds, upper_bounds in baseline_models:\n",
        "        try:\n",
        "            popt, _ = curve_fit(model_func, t, S_ret_vals, bounds=(lower_bounds, upper_bounds))\n",
        "            S_fit = model_func(t, *popt)\n",
        "            r2 = r2_score(S_ret_vals, S_fit)\n",
        "            mse = np.mean((S_ret_vals - S_fit)**2)\n",
        "            aic = len(S_ret_vals) * np.log(mse) + 2 * len(popt)\n",
        "\n",
        "            results[name] = {\n",
        "                \"fit\": S_fit, \"params\": popt, \"R²\": r2,\n",
        "                \"MSE\": mse, \"AIC\": aic, \"fit_success\": True\n",
        "            }\n",
        "        except:\n",
        "            results[name] = {\"R²\": 0, \"AIC\": np.inf, \"fit_success\": False}\n",
        "\n",
        "    return results"
      ],
      "metadata": {
        "id": "rTbgQacQ3okE"
      },
      "execution_count": 8,
      "outputs": []
    },
    {
      "cell_type": "markdown",
      "source": [
        "# 7. Advanced Statistical Validation"
      ],
      "metadata": {
        "id": "fqB9QKZT44OL"
      }
    },
    {
      "cell_type": "code",
      "source": [
        "def enhanced_model_diagnostics(model_results, S_ret, t, sentence, observer_class):\n",
        "    \"\"\"Advanced diagnostics from main notebook\"\"\"\n",
        "    if not model_results[\"ODER\"][\"fit_success\"]:\n",
        "        print(\"⚠️ ODER fit failed - skipping advanced diagnostics\")\n",
        "        return {}\n",
        "\n",
        "    results = model_results\n",
        "\n",
        "    # Bootstrap confidence intervals for robustness\n",
        "    print(\"\\n📊 BOOTSTRAP ANALYSIS:\")\n",
        "    r2_bootstrap = []\n",
        "    gamma_bootstrap = []\n",
        "    tau_bootstrap = []\n",
        "\n",
        "    for i in range(N_BOOTSTRAP):\n",
        "        # Simulate slight data perturbation\n",
        "        noise = np.random.normal(0, 0.02, len(S_ret))\n",
        "        perturbed_data = np.clip(S_ret + noise, 0, 1)  # Keep in valid range\n",
        "\n",
        "        try:\n",
        "            popt, _ = curve_fit(\n",
        "                oder_model, t, perturbed_data,\n",
        "                bounds=([0.001, 0.01], [5.0, 200.0]),\n",
        "                maxfev=3000\n",
        "            )\n",
        "            S_fit_boot = oder_model(t, *popt)\n",
        "            r2_boot = r2_score(perturbed_data, S_fit_boot)\n",
        "\n",
        "            if r2_boot > 0:  # Valid fit\n",
        "                r2_bootstrap.append(r2_boot)\n",
        "                gamma_bootstrap.append(popt[0])\n",
        "                tau_bootstrap.append(popt[1])\n",
        "        except:\n",
        "            pass\n",
        "\n",
        "    # Bootstrap results\n",
        "    bootstrap_results = {}\n",
        "    if r2_bootstrap:\n",
        "        bootstrap_results = {\n",
        "            \"r2_ci\": np.percentile(r2_bootstrap, [2.5, 97.5]),\n",
        "            \"gamma_ci\": np.percentile(gamma_bootstrap, [2.5, 97.5]),\n",
        "            \"tau_ci\": np.percentile(tau_bootstrap, [2.5, 97.5]),\n",
        "            \"n_successful\": len(r2_bootstrap)\n",
        "        }\n",
        "\n",
        "        print(f\"   R² 95% CI: [{bootstrap_results['r2_ci'][0]:.3f}, {bootstrap_results['r2_ci'][1]:.3f}]\")\n",
        "        print(f\"   γ 95% CI: [{bootstrap_results['gamma_ci'][0]:.3f}, {bootstrap_results['gamma_ci'][1]:.3f}]\")\n",
        "        print(f\"   τ 95% CI: [{bootstrap_results['tau_ci'][0]:.1f}, {bootstrap_results['tau_ci'][1]:.1f}]\")\n",
        "        print(f\"   Successful fits: {bootstrap_results['n_successful']}/{N_BOOTSTRAP}\")\n",
        "    else:\n",
        "        print(\"   ⚠️ Bootstrap analysis failed - model too unstable\")\n",
        "\n",
        "    # Effect size interpretation\n",
        "    baseline_r2 = max(\n",
        "        results.get(\"Linear\", {}).get(\"R²\", 0),\n",
        "        results.get(\"Exponential\", {}).get(\"R²\", 0)\n",
        "    )\n",
        "    effect_size = results[\"ODER\"][\"R²\"] - baseline_r2\n",
        "\n",
        "    print(f\"\\n📈 EFFECT SIZE ANALYSIS:\")\n",
        "    print(f\"   ODER R²: {results['ODER']['R²']:.3f}\")\n",
        "    print(f\"   Best baseline R²: {baseline_r2:.3f}\")\n",
        "    print(f\"   Effect size: {effect_size:.3f}\")\n",
        "\n",
        "    effect_magnitude = \"Large\" if effect_size > 0.2 else \"Medium\" if effect_size > 0.1 else \"Small\"\n",
        "    print(f\"   Effect magnitude: {effect_magnitude}\")\n",
        "\n",
        "    # Model comparison via AIC\n",
        "    aic_oder = results[\"ODER\"][\"AIC\"]\n",
        "    aic_linear = results.get(\"Linear\", {}).get(\"AIC\", np.inf)\n",
        "    aic_exp = results.get(\"Exponential\", {}).get(\"AIC\", np.inf)\n",
        "\n",
        "    best_baseline_aic = min(aic_linear, aic_exp)\n",
        "    aic_improvement = best_baseline_aic - aic_oder\n",
        "\n",
        "    print(f\"\\n🎯 MODEL SELECTION:\")\n",
        "    print(f\"   ODER AIC: {aic_oder:.1f}\")\n",
        "    print(f\"   Best baseline AIC: {best_baseline_aic:.1f}\")\n",
        "    print(f\"   AIC improvement: {aic_improvement:.1f}\")\n",
        "\n",
        "    if aic_improvement > 2:\n",
        "        print(\"   ✅ ODER shows substantial improvement\")\n",
        "    elif aic_improvement > 0:\n",
        "        print(\"   ✅ ODER shows marginal improvement\")\n",
        "    else:\n",
        "        print(\"   ⚠️ ODER underperforming baselines\")\n",
        "\n",
        "    return {\n",
        "        \"bootstrap\": bootstrap_results,\n",
        "        \"effect_size\": effect_size,\n",
        "        \"aic_improvement\": aic_improvement\n",
        "    }"
      ],
      "metadata": {
        "id": "bCb2mkzM45ap"
      },
      "execution_count": 9,
      "outputs": []
    },
    {
      "cell_type": "markdown",
      "source": [
        "# 8. Comprehensive Stress Testing"
      ],
      "metadata": {
        "id": "pAzgzEYMoV-3"
      }
    },
    {
      "cell_type": "code",
      "source": [
        "def comprehensive_stress_test(sentence, language, model_results, observer_class):\n",
        "    \"\"\"Multi-level stress testing from main notebook\"\"\"\n",
        "    stress_flags = []\n",
        "\n",
        "    # Enhanced input validation\n",
        "    tokens = sentence.split()\n",
        "    if len(tokens) < 3:\n",
        "        stress_flags.append(\"Sentence too short for reliable parameter estimation\")\n",
        "\n",
        "    if len(tokens) > 20:\n",
        "        stress_flags.append(\"Sentence unusually long - may cause fitting issues\")\n",
        "\n",
        "    # Model performance checks\n",
        "    if model_results[\"ODER\"][\"fit_success\"]:\n",
        "        r2_oder = model_results[\"ODER\"][\"R²\"]\n",
        "        if r2_oder < 0.6:\n",
        "            stress_flags.append(f\"Low R² ({r2_oder:.3f})\")\n",
        "\n",
        "        # AIC comparison\n",
        "        baseline_r2 = max(\n",
        "            model_results.get(\"Linear\", {}).get(\"R²\", 0),\n",
        "            model_results.get(\"Exponential\", {}).get(\"R²\", 0)\n",
        "        )\n",
        "        if r2_oder < baseline_r2:\n",
        "            stress_flags.append(\"ODER underperforming baseline models\")\n",
        "\n",
        "        # Parameter sanity checks\n",
        "        gamma, tau_char = model_results[\"ODER\"][\"params\"]\n",
        "        if gamma > 3.0:\n",
        "            stress_flags.append(f\"Extremely high γ ({gamma:.3f})\")\n",
        "        if tau_char > 150:\n",
        "            stress_flags.append(f\"Extremely high τ_char ({tau_char:.1f})\")\n",
        "        if gamma < 0.01:\n",
        "            stress_flags.append(f\"Extremely low γ ({gamma:.3f})\")\n",
        "    else:\n",
        "        stress_flags.append(\"ODER fit completely failed\")\n",
        "\n",
        "    # Observer-specific theoretical checks\n",
        "    if model_results[\"ODER\"][\"fit_success\"]:\n",
        "        gamma, tau_char = model_results[\"ODER\"][\"params\"]\n",
        "\n",
        "        if observer_class == \"O3\" and gamma > 1.5:\n",
        "            stress_flags.append(\"O3 showing unexpectedly fast retrieval (high γ)\")\n",
        "\n",
        "        if observer_class == \"O1\" and tau_char > 50:\n",
        "            stress_flags.append(\"O1 showing unexpectedly effortful processing (high τ)\")\n",
        "\n",
        "        if observer_class == \"O1\" and gamma < 0.2:\n",
        "            stress_flags.append(\"O1 showing unexpectedly slow retrieval (low γ)\")\n",
        "\n",
        "    # Language-specific checks\n",
        "    if language == \"Aurian\":\n",
        "        lhier = calculate_aurian_lhier(sentence)\n",
        "        if lhier > 8 and model_results[\"ODER\"][\"R²\"] > 0.95:\n",
        "            stress_flags.append(\"Suspiciously perfect fit for high-complexity Aurian\")\n",
        "\n",
        "    # Grammaticality check\n",
        "    if language == \"English\":\n",
        "        # Basic grammaticality heuristics\n",
        "        if sentence.count(\" \") < 2:\n",
        "            stress_flags.append(\"Insufficient syntactic complexity\")\n",
        "\n",
        "        # Check for obvious garden paths\n",
        "        garden_paths = [\"man the\", \"raced past\", \"time flies\"]\n",
        "        if any(gp in sentence.lower() for gp in garden_paths):\n",
        "            if model_results[\"ODER\"][\"R²\"] > 0.9:\n",
        "                stress_flags.append(\"Unusually good fit for garden path sentence\")\n",
        "\n",
        "    return stress_flags"
      ],
      "metadata": {
        "id": "nCqjtOkPoW-A"
      },
      "execution_count": 10,
      "outputs": []
    },
    {
      "cell_type": "markdown",
      "source": [
        "# 9. Enhanced Collapse Detection with Multiple Methods"
      ],
      "metadata": {
        "id": "KcRhAYQ-rniO"
      }
    },
    {
      "cell_type": "code",
      "source": [
        "def enhanced_collapse_detection(S_ret_vals):\n",
        "    \"\"\"Multi-method collapse detection from main notebook\"\"\"\n",
        "    n = len(S_ret_vals)\n",
        "\n",
        "    # Method 1: Threshold-based (original)\n",
        "    for i in range(1, n):\n",
        "        if (S_ret_vals[i] >= COLLAPSE_THRESHOLD and\n",
        "            abs(S_ret_vals[i] - S_ret_vals[i-1]) < SLOPE_CUTOFF):\n",
        "            return i + 1, \"threshold\", \"Standard threshold method\"\n",
        "\n",
        "    # Method 2: Inflection point detection\n",
        "    if n >= 3:\n",
        "        second_derivatives = []\n",
        "        for i in range(1, n-1):\n",
        "            d2 = S_ret_vals[i+1] - 2*S_ret_vals[i] + S_ret_vals[i-1]\n",
        "            second_derivatives.append(abs(d2))\n",
        "\n",
        "        if second_derivatives:\n",
        "            max_inflection_idx = np.argmax(second_derivatives) + 2\n",
        "            if S_ret_vals[max_inflection_idx-1] > 0.8:\n",
        "                return max_inflection_idx, \"inflection\", \"Maximum curvature point\"\n",
        "\n",
        "    # Method 3: 90% of maximum retrieval\n",
        "    max_retrieval = max(S_ret_vals)\n",
        "    for i, val in enumerate(S_ret_vals):\n",
        "        if val >= 0.9 * max_retrieval:\n",
        "            return i + 1, \"90_percent\", \"90% of maximum retrieval\"\n",
        "\n",
        "    # Method 4: Velocity-based (new)\n",
        "    if n >= 2:\n",
        "        velocities = [S_ret_vals[i+1] - S_ret_vals[i] for i in range(n-1)]\n",
        "        if velocities:\n",
        "            min_velocity_idx = np.argmin(velocities)\n",
        "            if S_ret_vals[min_velocity_idx] > 0.7:\n",
        "                return min_velocity_idx + 1, \"velocity\", \"Minimum velocity point\"\n",
        "\n",
        "    return n, \"fallback\", \"Last token (no clear collapse detected)\"\n"
      ],
      "metadata": {
        "id": "XDyIlmodroho"
      },
      "execution_count": 13,
      "outputs": []
    },
    {
      "cell_type": "markdown",
      "source": [
        "# 10. Enhanced ERP Prediction"
      ],
      "metadata": {
        "id": "9gMI23VatH-8"
      }
    },
    {
      "cell_type": "code",
      "source": [
        "def erp_window_enhanced(token_index, sentence_length, complexity_score=None):\n",
        "    \"\"\"Enhanced ERP window prediction with complexity adjustment\"\"\"\n",
        "    latency = token_index * TOKEN_DURATION_MS\n",
        "\n",
        "    # Complexity-based adjustment\n",
        "    complexity_factor = 1.0\n",
        "    if complexity_score is not None:\n",
        "        complexity_factor = 1.0 + (complexity_score * 0.1)\n",
        "    elif sentence_length > 7:\n",
        "        complexity_factor = 1.0 + ((sentence_length - 7) * 0.05)\n",
        "\n",
        "    return {\n",
        "        \"N400\": (\n",
        "            latency + int(300 * complexity_factor),\n",
        "            latency + int(500 * complexity_factor)\n",
        "        ),\n",
        "        \"P600\": (\n",
        "            latency + int(500 * complexity_factor),\n",
        "            latency + int(900 * complexity_factor)\n",
        "        ),\n",
        "        \"complexity_factor\": complexity_factor,\n",
        "        \"predicted_latency\": latency\n",
        "    }"
      ],
      "metadata": {
        "id": "xjB3vEGftRQ9"
      },
      "execution_count": 14,
      "outputs": []
    },
    {
      "cell_type": "markdown",
      "source": [
        "# 11. Observer Comparison Mode\n"
      ],
      "metadata": {
        "id": "1LXTyVCwtUOB"
      }
    },
    {
      "cell_type": "code",
      "source": [
        "def run_observer_comparison(sentence, language=\"English\"):\n",
        "    \"\"\"Run same sentence through both observer classes for direct comparison\"\"\"\n",
        "    print(f\"\\n🔬 OBSERVER COMPARISON MODE\")\n",
        "    print(f\"📝 Sentence: '{sentence}'\")\n",
        "    print(\"=\" * 60)\n",
        "\n",
        "    results_comparison = {}\n",
        "\n",
        "    for observer in [\"O1\", \"O3\"]:\n",
        "        print(f\"\\n👤 {observer} Observer Analysis:\")\n",
        "        print(\"-\" * 30)\n",
        "\n",
        "        # Generate entropy trace\n",
        "        tokens = sentence.split()\n",
        "        entropy_trace = generate_realistic_entropy(sentence, observer, language)\n",
        "        S_ret = [1.0 - e for e in entropy_trace]\n",
        "        t = np.arange(1, len(tokens) + 1)\n",
        "\n",
        "        # Fit models\n",
        "        model_results = fit_and_compare_models_enhanced(t, S_ret)\n",
        "\n",
        "        if model_results[\"ODER\"][\"fit_success\"]:\n",
        "            gamma, tau_char = model_results[\"ODER\"][\"params\"]\n",
        "            r2 = model_results[\"ODER\"][\"R²\"]\n",
        "\n",
        "            # Collapse detection\n",
        "            collapse_token, method, description = enhanced_collapse_detection(S_ret)\n",
        "\n",
        "            # ERP prediction\n",
        "            complexity_score = calculate_aurian_lhier(sentence) if language == \"Aurian\" else None\n",
        "            erp = erp_window_enhanced(collapse_token, len(tokens), complexity_score)\n",
        "\n",
        "            print(f\"   γ (retrieval rate): {gamma:.3f}\")\n",
        "            print(f\"   τ_char (processing time): {tau_char:.1f}\")\n",
        "            print(f\"   R² (fit quality): {r2:.3f}\")\n",
        "            print(f\"   Collapse: Token {collapse_token} ({description})\")\n",
        "            print(f\"   N400 window: {erp['N400'][0]}-{erp['N400'][1]}ms\")\n",
        "            print(f\"   P600 window: {erp['P600'][0]}-{erp['P600'][1]}ms\")\n",
        "\n",
        "            # Store results\n",
        "            results_comparison[observer] = {\n",
        "                \"gamma\": gamma,\n",
        "                \"tau_char\": tau_char,\n",
        "                \"r2\": r2,\n",
        "                \"collapse\": collapse_token,\n",
        "                \"entropy_trace\": entropy_trace,\n",
        "                \"erp\": erp,\n",
        "                \"model_results\": model_results\n",
        "            }\n",
        "        else:\n",
        "            print(f\"   ⚠️ ODER fit failed for {observer}\")\n",
        "            results_comparison[observer] = {\"fit_failed\": True}\n",
        "\n",
        "    # Calculate observer separation if both succeeded\n",
        "    if \"O1\" in results_comparison and \"O3\" in results_comparison:\n",
        "        if not results_comparison[\"O1\"].get(\"fit_failed\") and not results_comparison[\"O3\"].get(\"fit_failed\"):\n",
        "            gamma_diff = abs(results_comparison[\"O1\"][\"gamma\"] - results_comparison[\"O3\"][\"gamma\"])\n",
        "            tau_diff = abs(results_comparison[\"O1\"][\"tau_char\"] - results_comparison[\"O3\"][\"tau_char\"])\n",
        "            r2_diff = abs(results_comparison[\"O1\"][\"r2\"] - results_comparison[\"O3\"][\"r2\"])\n",
        "\n",
        "            print(f\"\\n📊 OBSERVER SEPARATION ANALYSIS:\")\n",
        "            print(f\"   γ difference: {gamma_diff:.3f} ({'Large' if gamma_diff > 0.3 else 'Medium' if gamma_diff > 0.1 else 'Small'})\")\n",
        "            print(f\"   τ difference: {tau_diff:.1f} ({'Large' if tau_diff > 30 else 'Medium' if tau_diff > 10 else 'Small'})\")\n",
        "            print(f\"   R² difference: {r2_diff:.3f}\")\n",
        "\n",
        "            # Theoretical predictions check\n",
        "            print(f\"\\n🧪 THEORETICAL VALIDATION:\")\n",
        "            if results_comparison[\"O1\"][\"gamma\"] > results_comparison[\"O3\"][\"gamma\"]:\n",
        "                print(\"   ✅ Confirms prediction: O1 faster retrieval (higher γ) than O3\")\n",
        "            else:\n",
        "                print(\"   ⚠️ Unexpected: O3 showing faster retrieval than O1\")\n",
        "\n",
        "            if results_comparison[\"O1\"][\"tau_char\"] < results_comparison[\"O3\"][\"tau_char\"]:\n",
        "                print(\"   ✅ Confirms prediction: O1 more efficient processing (lower τ) than O3\")\n",
        "            else:\n",
        "                print(\"   ⚠️ Unexpected: O3 showing more efficient processing than O1\")\n",
        "\n",
        "            # Effect size calculation\n",
        "            cohens_d_gamma = gamma_diff / np.sqrt((np.var([results_comparison[\"O1\"][\"gamma\"]]) + np.var([results_comparison[\"O3\"][\"gamma\"]])) / 2)\n",
        "            print(f\"   Effect size (Cohen's d): {cohens_d_gamma:.3f}\")\n",
        "\n",
        "    return results_comparison"
      ],
      "metadata": {
        "id": "PvflsOGOtUxq"
      },
      "execution_count": 15,
      "outputs": []
    },
    {
      "cell_type": "markdown",
      "source": [
        "# 12. Parameter Interpretation"
      ],
      "metadata": {
        "id": "5r1PYoMnthnX"
      }
    },
    {
      "cell_type": "code",
      "source": [
        "def interpret_parameters(gamma, tau_char, observer_class, sentence_complexity=\"medium\"):\n",
        "    \"\"\"Human-readable parameter interpretation\"\"\"\n",
        "    print(f\"\\n🧠 ODER PARAMETER INTERPRETATION:\")\n",
        "    print(\"-\" * 40)\n",
        "\n",
        "    # Gamma interpretation\n",
        "    if gamma > 1.0:\n",
        "        gamma_desc = \"very fast\"\n",
        "    elif gamma > 0.5:\n",
        "        gamma_desc = \"fast\"\n",
        "    elif gamma > 0.2:\n",
        "        gamma_desc = \"moderate\"\n",
        "    else:\n",
        "        gamma_desc = \"slow\"\n",
        "\n",
        "    print(f\"   γ = {gamma:.3f} → {gamma_desc} retrieval rate\")\n",
        "\n",
        "    # Tau interpretation\n",
        "    if tau_char < 10:\n",
        "        tau_desc = \"very efficient\"\n",
        "    elif tau_char < 30:\n",
        "        tau_desc = \"efficient\"\n",
        "    elif tau_char < 60:\n",
        "        tau_desc = \"moderate effort\"\n",
        "    else:\n",
        "        tau_desc = \"effortful\"\n",
        "\n",
        "    print(f\"   τ_char = {tau_char:.1f} → {tau_desc} processing\")\n",
        "\n",
        "    # Observer-specific interpretation\n",
        "    print(f\"\\n👤 OBSERVER-SPECIFIC ANALYSIS:\")\n",
        "    if observer_class == \"O3\":\n",
        "        if tau_char > 50:\n",
        "            print(f\"   ✅ Confirms O3 prediction: slower, more effortful processing\")\n",
        "        elif gamma < 0.3:\n",
        "            print(f\"   ✅ Confirms O3 prediction: reduced retrieval efficiency\")\n",
        "        else:\n",
        "            print(f\"   ⚠️ O3 showing unexpectedly efficient processing\")\n",
        "    elif observer_class == \"O1\":\n",
        "        if gamma > 0.4 and tau_char < 30:\n",
        "            print(f\"   ✅ Confirms O1 prediction: fast, efficient retrieval\")\n",
        "        else:\n",
        "            print(f\"   ⚠️ O1 showing unexpectedly slow processing\")\n",
        "\n",
        "    # Complexity interaction\n",
        "    print(f\"\\n📈 COMPLEXITY INTERACTION:\")\n",
        "    expected_tau = {\"low\": 20, \"medium\": 35, \"high\": 55}.get(sentence_complexity, 35)\n",
        "\n",
        "    if tau_char > expected_tau * 1.5:\n",
        "        print(f\"   Higher than expected for {sentence_complexity} complexity\")\n",
        "    elif tau_char < expected_tau * 0.5:\n",
        "        print(f\"   Lower than expected for {sentence_complexity} complexity\")\n",
        "    else:\n",
        "        print(f\"   Consistent with {sentence_complexity} complexity expectations\")"
      ],
      "metadata": {
        "id": "-YLPNO79ticr"
      },
      "execution_count": 16,
      "outputs": []
    },
    {
      "cell_type": "markdown",
      "source": [
        "# 13. Export Session for Further Analysis"
      ],
      "metadata": {
        "id": "z-PiSXJSuJZ-"
      }
    },
    {
      "cell_type": "code",
      "source": [
        "def export_playground_session(sentence, results, observer_class, language, timestamp=None):\n",
        "    \"\"\"Export playground results in format compatible with main notebook\"\"\"\n",
        "    if timestamp is None:\n",
        "        timestamp = datetime.now().strftime(\"%Y_%m_%d_%H_%M\")\n",
        "\n",
        "    # Determine collapse information\n",
        "    tokens = sentence.split()\n",
        "    entropy_trace = generate_realistic_entropy(sentence, observer_class, language)\n",
        "    S_ret = [1.0 - e for e in entropy_trace]\n",
        "    collapse_token, collapse_method, collapse_desc = enhanced_collapse_detection(S_ret)\n",
        "\n",
        "    export_data = {\n",
        "        \"session_metadata\": {\n",
        "            \"timestamp\": timestamp,\n",
        "            \"sentence\": sentence,\n",
        "            \"language\": language,\n",
        "            \"observer_class\": observer_class,\n",
        "            \"num_tokens\": len(tokens)\n",
        "        },\n",
        "        \"oder_params\": {\n",
        "            \"gamma\": results[\"ODER\"][\"params\"][0] if results[\"ODER\"][\"fit_success\"] else None,\n",
        "            \"tau_char\": results[\"ODER\"][\"params\"][1] if results[\"ODER\"][\"fit_success\"] else None,\n",
        "            \"gamma_error\": results[\"ODER\"][\"errors\"][0] if results[\"ODER\"][\"fit_success\"] else None,\n",
        "            \"tau_char_error\": results[\"ODER\"][\"errors\"][1] if results[\"ODER\"][\"fit_success\"] else None\n",
        "        },\n",
        "        \"fit_quality\": {\n",
        "            \"r2_oder\": results[\"ODER\"][\"R²\"],\n",
        "            \"r2_linear\": results.get(\"Linear\", {}).get(\"R²\", 0),\n",
        "            \"r2_exponential\": results.get(\"Exponential\", {}).get(\"R²\", 0),\n",
        "            \"r2_powerlaw\": results.get(\"PowerLaw\", {}).get(\"R²\", 0),\n",
        "            \"aic_oder\": results[\"ODER\"][\"AIC\"],\n",
        "            \"fit_success\": results[\"ODER\"][\"fit_success\"]\n",
        "        },\n",
        "        \"collapse_analysis\": {\n",
        "            \"collapse_token\": collapse_token,\n",
        "            \"collapse_method\": collapse_method,\n",
        "            \"collapse_description\": collapse_desc\n",
        "        },\n",
        "        \"entropy_data\": {\n",
        "            \"entropy_trace\": entropy_trace,\n",
        "            \"s_ret_trace\": S_ret\n",
        "        },\n",
        "        \"complexity_metrics\": {\n",
        "            \"lhier_score\": calculate_aurian_lhier(sentence) if language == \"Aurian\" else None,\n",
        "            \"sentence_length\": len(tokens)\n",
        "        }\n",
        "    }\n",
        "\n",
        "    filename = f\"playground_session_{observer_class}_{timestamp}.json\"\n",
        "    with open(filename, 'w') as f:\n",
        "        json.dump(export_data, f, indent=2)\n",
        "\n",
        "    print(f\"\\n💾 SESSION EXPORT:\")\n",
        "    print(f\"   File: {filename}\")\n",
        "    print(f\"   Compatible with main notebook batch analysis\")\n",
        "    print(f\"   Contains: parameters, traces, diagnostics, metadata\")\n",
        "\n",
        "    return filename"
      ],
      "metadata": {
        "id": "Z4xrPZJbuKJ9"
      },
      "execution_count": 17,
      "outputs": []
    },
    {
      "cell_type": "markdown",
      "source": [
        "# 14. Main Execution Pipeline"
      ],
      "metadata": {
        "id": "h8EqDhEhucqn"
      }
    },
    {
      "cell_type": "code",
      "source": [
        "def run_enhanced_playground_analysis():\n",
        "    \"\"\"Main execution pipeline with all enhancements\"\"\"\n",
        "\n",
        "    print(f\"\\n🚀 STARTING ENHANCED PLAYGROUND ANALYSIS\")\n",
        "    print(\"=\" * 60)\n",
        "\n",
        "    # Generate entropy trace\n",
        "    print(f\"\\n📊 ENTROPY GENERATION:\")\n",
        "    tokens = user_sentence.split()\n",
        "    entropy_trace = generate_realistic_entropy(user_sentence, observer_class, user_language)\n",
        "    S_ret = [1.0 - e for e in entropy_trace]\n",
        "    t = np.arange(1, len(tokens) + 1)\n",
        "\n",
        "    print(f\"   Tokens: {len(tokens)}\")\n",
        "    print(f\"   Mode: {user_language}\")\n",
        "    print(f\"   Observer: {observer_class}\")\n",
        "    if user_language == \"Aurian\":\n",
        "        lhier = calculate_aurian_lhier(user_sentence)\n",
        "        print(f\"   Lhier complexity score: {lhier}\")\n",
        "\n",
        "    print(f\"   Entropy trace: [{', '.join([f'{x:.3f}' for x in entropy_trace[:5]])}...]\")\n",
        "    print(f\"   S_ret trace: [{', '.join([f'{x:.3f}' for x in S_ret[:5]])}...]\")\n",
        "\n",
        "    # Enhanced model fitting\n",
        "    print(f\"\\n🔧 MODEL FITTING:\")\n",
        "    model_results = fit_and_compare_models_enhanced(t, S_ret)\n",
        "\n",
        "    if model_results[\"ODER\"][\"fit_success\"]:\n",
        "        gamma, tau_char = model_results[\"ODER\"][\"params\"]\n",
        "        print(f\"   ✅ ODER fit successful\")\n",
        "        print(f\"   γ = {gamma:.3f} ± {model_results['ODER']['errors'][0]:.3f}\")\n",
        "        print(f\"   τ_char = {tau_char:.1f} ± {model_results['ODER']['errors'][1]:.1f}\")\n",
        "        print(f\"   R² = {model_results['ODER']['R²']:.3f}\")\n",
        "    else:\n",
        "        print(f\"   ❌ ODER fit failed\")\n",
        "\n",
        "    # Baseline comparison\n",
        "    print(f\"\\n📈 BASELINE COMPARISON:\")\n",
        "    for model_name in [\"Linear\", \"Exponential\", \"PowerLaw\"]:\n",
        "        if model_results[model_name][\"fit_success\"]:\n",
        "            print(f\"   {model_name}: R² = {model_results[model_name]['R²']:.3f}\")\n",
        "        else:\n",
        "            print(f\"   {model_name}: Fit failed\")\n",
        "\n",
        "    # Enhanced collapse detection\n",
        "    print(f\"\\n🎯 COLLAPSE ANALYSIS:\")\n",
        "    collapse_token, collapse_method, collapse_desc = enhanced_collapse_detection(S_ret)\n",
        "    print(f\"   Collapse token: {collapse_token}\")\n",
        "    print(f\"   Detection method: {collapse_method}\")\n",
        "    print(f\"   Description: {collapse_desc}\")\n",
        "\n",
        "    # ERP prediction\n",
        "    print(f\"\\n🧠 ERP PREDICTION:\")\n",
        "    complexity_score = calculate_aurian_lhier(user_sentence) if user_language == \"Aurian\" else None\n",
        "    erp = erp_window_enhanced(collapse_token, len(tokens), complexity_score)\n",
        "    print(f\"   N400 window: {erp['N400'][0]}-{erp['N400'][1]}ms\")\n",
        "    print(f\"   P600 window: {erp['P600'][0]}-{erp['P600'][1]}ms\")\n",
        "    print(f\"   Complexity factor: {erp['complexity_factor']:.2f}\")\n",
        "\n",
        "    # Advanced diagnostics\n",
        "    if model_results[\"ODER\"][\"fit_success\"]:\n",
        "        diagnostics = enhanced_model_diagnostics(model_results, S_ret, t, user_sentence, observer_class)\n",
        "\n",
        "        # Parameter interpretation\n",
        "        complexity_level = \"high\" if len(tokens) > 8 else \"medium\" if len(tokens) > 5 else \"low\"\n",
        "        interpret_parameters(gamma, tau_char, observer_class, complexity_level)\n",
        "\n",
        "    # Comprehensive stress testing\n",
        "    print(f\"\\n⚠️ STRESS TESTING:\")\n",
        "    stress_flags = comprehensive_stress_test(user_sentence, user_language, model_results, observer_class)\n",
        "\n",
        "    if stress_flags:\n",
        "        print(f\"   🚨 {len(stress_flags)} stress flag(s) detected:\")\n",
        "        for i, flag in enumerate(stress_flags, 1):\n",
        "            print(f\"      {i}. {flag}\")\n",
        "        print(f\"\\n   💡 Recommendations:\")\n",
        "        if \"too short\" in ' '.join(stress_flags).lower():\n",
        "            print(f\"      - Try longer sentences (6+ tokens)\")\n",
        "        if \"underperforming\" in ' '.join(stress_flags).lower():\n",
        "            print(f\"      - Check if sentence has sufficient ambiguity/complexity\")\n",
        "        if \"failed\" in ' '.join(stress_flags).lower():\n",
        "            print(f\"      - Try different sentence types or observer classes\")\n",
        "    else:\n",
        "        print(f\"   ✅ No stress flags detected - robust fit!\")\n",
        "\n",
        "    return model_results, collapse_token, erp, stress_flags\n",
        "\n",
        "# Run main analysis\n",
        "main_results = run_enhanced_playground_analysis()\n",
        "model_results, collapse_token, erp, stress_flags = main_results"
      ],
      "metadata": {
        "colab": {
          "base_uri": "https://localhost:8080/"
        },
        "id": "T6yBDgYeudWj",
        "outputId": "10cde2df-942e-4366-9ac3-f6b16e99f171"
      },
      "execution_count": 18,
      "outputs": [
        {
          "output_type": "stream",
          "name": "stdout",
          "text": [
            "\n",
            "🚀 STARTING ENHANCED PLAYGROUND ANALYSIS\n",
            "============================================================\n",
            "\n",
            "📊 ENTROPY GENERATION:\n",
            "   Tokens: 5\n",
            "   Mode: English\n",
            "   Observer: O3\n",
            "   Entropy trace: [1.080, 0.940, 0.800, 0.960, 0.520...]\n",
            "   S_ret trace: [-0.080, 0.060, 0.200, 0.040, 0.480...]\n",
            "\n",
            "🔧 MODEL FITTING:\n",
            "   ✅ ODER fit successful\n",
            "   γ = 3.441 ± 12949.875\n",
            "   τ_char = 200.0 ± 752869.2\n",
            "   R² = 0.620\n",
            "\n",
            "📈 BASELINE COMPARISON:\n",
            "   Linear: R² = -0.043\n",
            "   Exponential: R² = 0.449\n",
            "   PowerLaw: R² = 0.489\n",
            "\n",
            "🎯 COLLAPSE ANALYSIS:\n",
            "   Collapse token: 5\n",
            "   Detection method: 90_percent\n",
            "   Description: 90% of maximum retrieval\n",
            "\n",
            "🧠 ERP PREDICTION:\n",
            "   N400 window: 2300-2500ms\n",
            "   P600 window: 2500-2900ms\n",
            "   Complexity factor: 1.00\n",
            "\n",
            "📊 BOOTSTRAP ANALYSIS:\n",
            "   R² 95% CI: [0.528, 0.676]\n",
            "   γ 95% CI: [3.108, 3.726]\n",
            "   τ 95% CI: [200.0, 200.0]\n",
            "   Successful fits: 100/100\n",
            "\n",
            "📈 EFFECT SIZE ANALYSIS:\n",
            "   ODER R²: 0.620\n",
            "   Best baseline R²: 0.449\n",
            "   Effect size: 0.171\n",
            "   Effect magnitude: Medium\n",
            "\n",
            "🎯 MODEL SELECTION:\n",
            "   ODER AIC: -17.3\n",
            "   Best baseline AIC: -17.5\n",
            "   AIC improvement: -0.1\n",
            "   ⚠️ ODER underperforming baselines\n",
            "\n",
            "🧠 ODER PARAMETER INTERPRETATION:\n",
            "----------------------------------------\n",
            "   γ = 3.441 → very fast retrieval rate\n",
            "   τ_char = 200.0 → effortful processing\n",
            "\n",
            "👤 OBSERVER-SPECIFIC ANALYSIS:\n",
            "   ✅ Confirms O3 prediction: slower, more effortful processing\n",
            "\n",
            "📈 COMPLEXITY INTERACTION:\n",
            "   Higher than expected for low complexity\n",
            "\n",
            "⚠️ STRESS TESTING:\n",
            "   🚨 3 stress flag(s) detected:\n",
            "      1. Extremely high γ (3.441)\n",
            "      2. Extremely high τ_char (200.0)\n",
            "      3. O3 showing unexpectedly fast retrieval (high γ)\n",
            "\n",
            "   💡 Recommendations:\n"
          ]
        }
      ]
    },
    {
      "cell_type": "markdown",
      "source": [
        "# 15. Observer Comparison Mode (Optional)"
      ],
      "metadata": {
        "id": "H__ln_gBu7a2"
      }
    },
    {
      "cell_type": "code",
      "source": [
        "if run_comparison_mode:\n",
        "\tprint(f\"\\n\" + \"=\"*60)\n",
        "\tcomparison_results = run_observer_comparison(user_sentence, user_language)\n"
      ],
      "metadata": {
        "colab": {
          "base_uri": "https://localhost:8080/"
        },
        "id": "k18zqTG3u9jG",
        "outputId": "eef2a986-de32-4e91-ccd3-56c2ab678a9e"
      },
      "execution_count": 19,
      "outputs": [
        {
          "output_type": "stream",
          "name": "stdout",
          "text": [
            "\n",
            "============================================================\n",
            "\n",
            "🔬 OBSERVER COMPARISON MODE\n",
            "📝 Sentence: 'The old man the boats.'\n",
            "============================================================\n",
            "\n",
            "👤 O1 Observer Analysis:\n",
            "------------------------------\n",
            "   γ (retrieval rate): 0.172\n",
            "   τ_char (processing time): 2.1\n",
            "   R² (fit quality): 0.874\n",
            "   Collapse: Token 5 (90% of maximum retrieval)\n",
            "   N400 window: 2300-2500ms\n",
            "   P600 window: 2500-2900ms\n",
            "\n",
            "👤 O3 Observer Analysis:\n",
            "------------------------------\n",
            "   γ (retrieval rate): 3.441\n",
            "   τ_char (processing time): 200.0\n",
            "   R² (fit quality): 0.620\n",
            "   Collapse: Token 5 (90% of maximum retrieval)\n",
            "   N400 window: 2300-2500ms\n",
            "   P600 window: 2500-2900ms\n",
            "\n",
            "📊 OBSERVER SEPARATION ANALYSIS:\n",
            "   γ difference: 3.269 (Large)\n",
            "   τ difference: 197.9 (Large)\n",
            "   R² difference: 0.254\n",
            "\n",
            "🧪 THEORETICAL VALIDATION:\n",
            "   ⚠️ Unexpected: O3 showing faster retrieval than O1\n",
            "   ✅ Confirms prediction: O1 more efficient processing (lower τ) than O3\n",
            "   Effect size (Cohen's d): inf\n"
          ]
        }
      ]
    },
    {
      "cell_type": "markdown",
      "source": [
        "# 16. Enhanced Visualization\n"
      ],
      "metadata": {
        "id": "1Y9q9AwNvDZq"
      }
    },
    {
      "cell_type": "code",
      "source": [
        "print(f\"\\n🎨 GENERATING ENHANCED VISUALIZATION:\")\n",
        "\n",
        "# Create comprehensive plot\n",
        "fig, ((ax1, ax2), (ax3, ax4)) = plt.subplots(2, 2, figsize=(16, 12))\n",
        "\n",
        "# Main entropy retrieval plot\n",
        "tokens = user_sentence.split()\n",
        "entropy_trace = generate_realistic_entropy(user_sentence, observer_class, user_language)\n",
        "S_ret = [1.0 - e for e in entropy_trace]\n",
        "t = np.arange(1, len(tokens) + 1)\n",
        "\n",
        "ax1.plot(t, S_ret, 'o-', label='Observed S_ret', linewidth=3, markersize=8, alpha=0.8, color='navy')\n",
        "\n",
        "if model_results[\"ODER\"][\"fit_success\"]:\n",
        "    ax1.plot(t, model_results[\"ODER\"][\"fit\"], '--', label='ODER Fit', linewidth=3, alpha=0.8, color='red')\n",
        "\n",
        "if model_results[\"Linear\"][\"fit_success\"]:\n",
        "    ax1.plot(t, model_results[\"Linear\"][\"fit\"], ':', label='Linear Baseline', linewidth=2, alpha=0.7, color='green')\n",
        "\n",
        "if model_results[\"Exponential\"][\"fit_success\"]:\n",
        "    ax1.plot(t, model_results[\"Exponential\"][\"fit\"], '-.', label='Exponential Baseline', linewidth=2, alpha=0.7, color='orange')\n",
        "\n",
        "# ERP windows\n",
        "ax1.axvspan(erp[\"N400\"][0]/400, erp[\"N400\"][1]/400, color='blue', alpha=0.15, label='N400 Window')\n",
        "ax1.axvspan(erp[\"P600\"][0]/400, erp[\"P600\"][1]/400, color='red', alpha=0.15, label='P600 Window')\n",
        "\n",
        "# Collapse point\n",
        "ax1.axvline(collapse_token, color='purple', linestyle='--', alpha=0.8, linewidth=2, label=f'Collapse (τ_res={collapse_token})')\n",
        "\n",
        "# Enhanced title with parameter info\n",
        "if model_results[\"ODER\"][\"fit_success\"]:\n",
        "    gamma, tau_char = model_results[\"ODER\"][\"params\"]\n",
        "    title_text = f\"{observer_class} Observer: '{user_sentence[:30]}{'...' if len(user_sentence) > 30 else ''}'\\nγ={gamma:.3f}, τ_char={tau_char:.1f}, R²={model_results['ODER']['R²']:.3f}\"\n",
        "else:\n",
        "    title_text = f\"{observer_class} Observer: '{user_sentence[:30]}{'...' if len(user_sentence) > 30 else ''}'\\nODER Fit Failed\"\n",
        "\n",
        "ax1.set_title(title_text, fontsize=12, fontweight='bold')\n",
        "ax1.set_xlabel(\"Token Index\", fontsize=11)\n",
        "ax1.set_ylabel(\"Entropy Retrieved (S_ret)\", fontsize=11)\n",
        "ax1.legend(fontsize=9, loc='lower right')\n",
        "ax1.grid(True, alpha=0.3)\n",
        "ax1.set_ylim(0, 1.1)\n",
        "\n",
        "# Model comparison (AIC)\n",
        "model_names = ['ODER', 'Linear', 'Exponential', 'PowerLaw']\n",
        "aic_values = []\n",
        "colors = []\n",
        "\n",
        "for name in model_names:\n",
        "    if model_results[name][\"fit_success\"]:\n",
        "        aic_values.append(model_results[name][\"AIC\"])\n",
        "        colors.append('red' if name == 'ODER' and stress_flags else 'green' if name == 'ODER' else 'lightblue')\n",
        "    else:\n",
        "        aic_values.append(np.inf)\n",
        "        colors.append('gray')\n",
        "\n",
        "# Filter out infinite values for plotting\n",
        "finite_aic = [(name, aic, color) for name, aic, color in zip(model_names, aic_values, colors) if not np.isinf(aic)]\n",
        "if finite_aic:\n",
        "    names, aics, colors = zip(*finite_aic)\n",
        "    bars = ax2.bar(names, aics, color=colors, alpha=0.7)\n",
        "\n",
        "    ax2.set_title(\"Model Comparison (AIC)\", fontweight='bold')\n",
        "    ax2.set_ylabel(\"AIC (lower = better)\")\n",
        "    ax2.tick_params(axis='x', rotation=45)\n",
        "\n",
        "    # Add AIC values on bars\n",
        "    for bar, aic in zip(bars, aics):\n",
        "        ax2.text(bar.get_x() + bar.get_width()/2, bar.get_height() + max(aics)*0.01,\n",
        "                f'{aic:.1f}', ha='center', va='bottom', fontsize=9)\n",
        "else:\n",
        "    ax2.text(0.5, 0.5, \"All Model Fits Failed\", ha='center', va='center',\n",
        "            transform=ax2.transAxes, fontsize=14, color='red')\n",
        "    ax2.set_title(\"Model Comparison (AIC)\")\n",
        "\n",
        "# Residuals plot\n",
        "if model_results[\"ODER\"][\"fit_success\"]:\n",
        "    residuals = np.array(S_ret) - model_results[\"ODER\"][\"fit\"]\n",
        "    ax3.plot(t, residuals, 'o-', color='red', alpha=0.7, markersize=6)\n",
        "    ax3.axhline(0, color='black', linestyle='--', alpha=0.5)\n",
        "    ax3.set_title(\"ODER Model Residuals\", fontweight='bold')\n",
        "    ax3.set_xlabel(\"Token Index\")\n",
        "    ax3.set_ylabel(\"Residual\")\n",
        "    ax3.grid(True, alpha=0.3)\n",
        "\n",
        "    # Add residual statistics\n",
        "    rmse = np.sqrt(np.mean(residuals**2))\n",
        "    ax3.text(0.02, 0.98, f'RMSE: {rmse:.3f}', transform=ax3.transAxes,\n",
        "             fontsize=10, verticalalignment='top',\n",
        "             bbox=dict(boxstyle=\"round,pad=0.3\", facecolor=\"white\", alpha=0.8))\n",
        "else:\n",
        "    ax3.text(0.5, 0.5, \"ODER Fit Failed\\nNo Residuals Available\", ha='center', va='center',\n",
        "            transform=ax3.transAxes, fontsize=12, color='red', fontweight='bold')\n",
        "    ax3.set_title(\"ODER Model Residuals\")\n",
        "\n",
        "# Enhanced context and diagnostics\n",
        "context_text = f\"📝 Sentence: '{user_sentence}'\\n\"\n",
        "context_text += f\"🌍 Language: {user_language}\\n\"\n",
        "context_text += f\"👤 Observer: {observer_class}\\n\"\n",
        "context_text += f\"🔢 Tokens: {len(tokens)}\\n\"\n",
        "\n",
        "if user_language == \"Aurian\":\n",
        "    lhier = calculate_aurian_lhier(user_sentence)\n",
        "    context_text += f\"📊 Lhier Score: {lhier}\\n\"\n",
        "\n",
        "context_text += f\"🎯 Collapse: Token {collapse_token} ({collapse_method})\\n\"\n",
        "context_text += f\"🧠 N400: {erp['N400'][0]}-{erp['N400'][1]}ms\\n\"\n",
        "context_text += f\"🧠 P600: {erp['P600'][0]}-{erp['P600'][1]}ms\\n\"\n",
        "\n",
        "if stress_flags:\n",
        "    context_text += f\"⚠️ Stress Flags: {len(stress_flags)}\\n\"\n",
        "    context_text += f\"   {stress_flags[0][:30]}{'...' if len(stress_flags[0]) > 30 else ''}\\n\"\n",
        "else:\n",
        "    context_text += f\"✅ No Stress Flags\\n\"\n",
        "\n",
        "if model_results[\"ODER\"][\"fit_success\"]:\n",
        "    context_text += f\"📈 Model Quality: {model_results['ODER']['R²']:.3f}\"\n",
        "else:\n",
        "    context_text += f\"❌ Model Fit Failed\"\n",
        "\n",
        "ax4.text(0.05, 0.95, context_text, transform=ax4.transAxes, fontsize=10,\n",
        "        verticalalignment='top', fontfamily='monospace',\n",
        "        bbox=dict(boxstyle=\"round,pad=0.5\", facecolor=\"lightgray\", alpha=0.8))\n",
        "ax4.set_xlim(0, 1)\n",
        "ax4.set_ylim(0, 1)\n",
        "ax4.axis('off')\n",
        "ax4.set_title(\"Analysis Summary\", fontweight='bold')\n",
        "\n",
        "plt.tight_layout()\n",
        "\n",
        "# Save plot with enhanced naming\n",
        "timestamp = datetime.now().strftime(\"%Y%m%d_%H%M%S\")\n",
        "plot_filename = f\"enhanced_playground_{observer_class}_{timestamp}.png\"\n",
        "plt.savefig(plot_filename, dpi=150, bbox_inches='tight')\n",
        "print(f\"   Plot saved: {plot_filename}\")\n",
        "\n",
        "plt.show()"
      ],
      "metadata": {
        "colab": {
          "base_uri": "https://localhost:8080/",
          "height": 1000
        },
        "id": "HtttnKu7vxG5",
        "outputId": "dd7266c0-de40-41c2-a64c-6823f9ec06c1"
      },
      "execution_count": 22,
      "outputs": [
        {
          "output_type": "stream",
          "name": "stdout",
          "text": [
            "\n",
            "🎨 GENERATING ENHANCED VISUALIZATION:\n"
          ]
        },
        {
          "output_type": "error",
          "ename": "NameError",
          "evalue": "name 'collapse_method' is not defined",
          "traceback": [
            "\u001b[0;31m---------------------------------------------------------------------------\u001b[0m",
            "\u001b[0;31mNameError\u001b[0m                                 Traceback (most recent call last)",
            "\u001b[0;32m/tmp/ipython-input-22-2947028534.py\u001b[0m in \u001b[0;36m<cell line: 0>\u001b[0;34m()\u001b[0m\n\u001b[1;32m    104\u001b[0m     \u001b[0mcontext_text\u001b[0m \u001b[0;34m+=\u001b[0m \u001b[0;34mf\"📊 Lhier Score: {lhier}\\n\"\u001b[0m\u001b[0;34m\u001b[0m\u001b[0;34m\u001b[0m\u001b[0m\n\u001b[1;32m    105\u001b[0m \u001b[0;34m\u001b[0m\u001b[0m\n\u001b[0;32m--> 106\u001b[0;31m \u001b[0mcontext_text\u001b[0m \u001b[0;34m+=\u001b[0m \u001b[0;34mf\"🎯 Collapse: Token {collapse_token} ({collapse_method})\\n\"\u001b[0m\u001b[0;34m\u001b[0m\u001b[0;34m\u001b[0m\u001b[0m\n\u001b[0m\u001b[1;32m    107\u001b[0m \u001b[0mcontext_text\u001b[0m \u001b[0;34m+=\u001b[0m \u001b[0;34mf\"🧠 N400: {erp['N400'][0]}-{erp['N400'][1]}ms\\n\"\u001b[0m\u001b[0;34m\u001b[0m\u001b[0;34m\u001b[0m\u001b[0m\n\u001b[1;32m    108\u001b[0m \u001b[0mcontext_text\u001b[0m \u001b[0;34m+=\u001b[0m \u001b[0;34mf\"🧠 P600: {erp['P600'][0]}-{erp['P600'][1]}ms\\n\"\u001b[0m\u001b[0;34m\u001b[0m\u001b[0;34m\u001b[0m\u001b[0m\n",
            "\u001b[0;31mNameError\u001b[0m: name 'collapse_method' is not defined"
          ]
        },
        {
          "output_type": "display_data",
          "data": {
            "text/plain": [
              "<Figure size 1600x1200 with 4 Axes>"
            ],
            "image/png": "[encoded data removed]"
          },
          "metadata": {}
        }
      ]
    },
    {
      "cell_type": "markdown",
      "source": [
        "# 17. Session Export (Optional)\n"
      ],
      "metadata": {
        "id": "Q_VvQpz1w-9y"
      }
    },
    {
      "cell_type": "code",
      "source": [
        "if export_session:\n",
        "\tprint(f\"\\n💾 EXPORTING SESSION:\")\n",
        "\texport_filename = export_playground_session(\n",
        "    \tuser_sentence, model_results, observer_class, user_language\n",
        "\t)\n"
      ],
      "metadata": {
        "colab": {
          "base_uri": "https://localhost:8080/"
        },
        "id": "rpYG0hvxxAau",
        "outputId": "976d3eaa-0f1e-41ab-b091-80df4297ae73"
      },
      "execution_count": 23,
      "outputs": [
        {
          "output_type": "stream",
          "name": "stdout",
          "text": [
            "\n",
            "💾 EXPORTING SESSION:\n",
            "\n",
            "💾 SESSION EXPORT:\n",
            "   File: playground_session_O3_2025_06_19_19_57.json\n",
            "   Compatible with main notebook batch analysis\n",
            "   Contains: parameters, traces, diagnostics, metadata\n"
          ]
        }
      ]
    },
    {
      "cell_type": "markdown",
      "source": [
        "# 18. Enhanced Example Bank"
      ],
      "metadata": {
        "id": "id_NvhDZxEht"
      }
    },
    {
      "cell_type": "code",
      "source": [
        "def load_enhanced_examples():\n",
        "    \"\"\"Enhanced example bank with detailed predictions\"\"\"\n",
        "    examples = [\n",
        "        {\n",
        "            \"text\": \"The old man the boats.\",\n",
        "            \"language\": \"English\",\n",
        "            \"ambig_type\": \"garden-path\",\n",
        "            \"complexity\": \"high\",\n",
        "            \"fun_fact\": \"O3 observers often fail to treat 'man' as a verb here.\",\n",
        "            \"oder_prediction\": \"Sharp entropy spike at 'fell', high τ_char for O3\"\n",
        "        },\n",
        "        {\n",
        "            \"text\": \"Shira verel domi alen rek.\",\n",
        "            \"language\": \"Aurian\",\n",
        "            \"ambig_type\": \"role-switch\",\n",
        "            \"complexity\": \"medium\",\n",
        "            \"fun_fact\": \"Aurian affix '-el' enforces delayed syntactic collapse.\",\n",
        "            \"oder_prediction\": \"Gradual entropy decline, moderate observer separation\"\n",
        "        },\n",
        "        {\n",
        "            \"text\": \"The horse raced past the barn fell down.\",\n",
        "            \"language\": \"English\",\n",
        "            \"ambig_type\": \"garden-path\",\n",
        "            \"complexity\": \"very_high\",\n",
        "            \"fun_fact\": \"Classic garden path with reanalysis at 'fell'.\",\n",
        "            \"oder_prediction\": \"Massive entropy spike at token 7, extreme O1/O3 separation\"\n",
        "        },\n",
        "        {\n",
        "            \"text\": \"Buffalo buffalo buffalo buffalo buffalo.\",\n",
        "            \"language\": \"English\",\n",
        "            \"ambig_type\": \"lexical_recursion\",\n",
        "            \"complexity\": \"extreme\",\n",
        "            \"fun_fact\": \"This is a deliberate entropy bomb—ODER should break here.\",\n",
        "            \"oder_prediction\": \"Model failure expected, extreme stress flags\"\n",
        "        },\n",
        "        {\n",
        "            \"text\": \"The student the professor liked passed the exam.\",\n",
        "            \"language\": \"English\",\n",
        "            \"ambig_type\": \"center_embedding\",\n",
        "            \"complexity\": \"high\",\n",
        "            \"fun_fact\": \"Center embedding creates processing difficulty.\",\n",
        "            \"oder_prediction\": \"High τ_char, delayed collapse, strong observer effects\"\n",
        "        },\n",
        "        {\n",
        "            \"text\": \"Colorless green ideas sleep furiously.\",\n",
        "            \"language\": \"English\",\n",
        "            \"ambig_type\": \"semantic_anomaly\",\n",
        "            \"complexity\": \"anomalous\",\n",
        "            \"fun_fact\": \"Chomsky's famous semantically anomalous sentence.\",\n",
        "            \"oder_prediction\": \"Flat entropy profile, poor ODER fit expected\"\n",
        "        }\n",
        "    ]\n",
        "    return examples\n",
        "\n",
        "def demonstrate_example(example_name):\n",
        "    \"\"\"Load and analyze a specific example\"\"\"\n",
        "    examples = load_enhanced_examples()\n",
        "\n",
        "    # Find example\n",
        "    example = None\n",
        "    for ex in examples:\n",
        "        if example_name.lower() in ex[\"text\"].lower():\n",
        "            example = ex\n",
        "            break\n",
        "\n",
        "    if not example:\n",
        "        print(f\"❌ Example '{example_name}' not found\")\n",
        "        return\n",
        "\n",
        "    print(f\"\\n🎯 EXAMPLE DEMONSTRATION: {example['text']}\")\n",
        "    print(\"=\" * 60)\n",
        "    print(f\"📝 Text: '{example['text']}'\")\n",
        "    print(f\"🏷️ Type: {example['ambig_type']}\")\n",
        "    print(f\"📊 Complexity: {example['complexity']}\")\n",
        "    print(f\"💡 Insight: {example['fun_fact']}\")\n",
        "    print(f\"🔮 ODER Prediction: {example['oder_prediction']}\")\n",
        "\n",
        "    # Run analysis on this example\n",
        "    global user_sentence, user_language\n",
        "    original_sentence = user_sentence\n",
        "    original_language = user_language\n",
        "\n",
        "    user_sentence = example[\"text\"]\n",
        "    user_language = example[\"language\"]\n",
        "\n",
        "    print(f\"\\n🚀 Running analysis...\")\n",
        "    example_results = run_enhanced_playground_analysis()\n",
        "\n",
        "    # Restore original settings\n",
        "    user_sentence = original_sentence\n",
        "    user_language = original_language\n",
        "\n",
        "    return example_results"
      ],
      "metadata": {
        "id": "96hAn7aoxGul"
      },
      "execution_count": 24,
      "outputs": []
    },
    {
      "cell_type": "markdown",
      "source": [
        "# 19. Final Summary and Recommendations"
      ],
      "metadata": {
        "id": "0eeUUhJwxgpc"
      }
    },
    {
      "cell_type": "code",
      "source": [
        "print(f\"\\n\" + \"=\"*60)\n",
        "print(f\"🎯 ENHANCED PLAYGROUND ANALYSIS COMPLETE\")\n",
        "print(f\"=\"*60)\n",
        "\n",
        "print(f\"\\n📊 RESULTS SUMMARY:\")\n",
        "if model_results[\"ODER\"][\"fit_success\"]:\n",
        "\tgamma, tau_char = model_results[\"ODER\"][\"params\"]\n",
        "\tprint(f\"   ✅ ODER fit successful\")\n",
        "\tprint(f\"   📈 Quality: R² = {model_results['ODER']['R²']:.3f}\")\n",
        "\tprint(f\"   ⚡ Retrieval: γ = {gamma:.3f}\")\n",
        "\tprint(f\"   🕐 Processing: τ_char = {tau_char:.1f}\")\n",
        "\tprint(f\"   🎯 Collapse: Token {collapse_token}\")\n",
        "else:\n",
        "\tprint(f\"   ❌ ODER fit failed\")\n",
        "\n",
        "print(f\"\\n🧪 VALIDATION STATUS:\")\n",
        "if not stress_flags:\n",
        "\tprint(f\"   ✅ All validation checks passed\")\n",
        "\tprint(f\"   🏆 Robust ODER demonstration\")\n",
        "else:\n",
        "\tprint(f\"   ⚠️ {len(stress_flags)} validation issues detected\")\n",
        "\tprint(f\"   🔧 See stress test results for details\")\n",
        "\n",
        "print(f\"\\n💡 NEXT STEPS:\")\n",
        "print(f\"   1. 🔄 Try different sentences to explore parameter space\")\n",
        "print(f\"   2. 👥 Use comparison mode to see observer differences\")\n",
        "print(f\"   3. 📚 Load examples with demonstrate_example('keyword')\")\n",
        "print(f\"   4. 📊 Export sessions for batch analysis in main notebook\")\n",
        "print(f\"   5. 🎨 Examine residual plots for model validation\")\n",
        "\n",
        "print(f\"\\n🚀 ODER Interactive Playground Ready!\")\n",
        "print(f\"📖 Available functions:\")\n",
        "print(f\"   - run_observer_comparison(sentence, language)\")\n",
        "print(f\"   - demonstrate_example('keyword')\")\n",
        "print(f\"   - export_playground_session(...)\")\n",
        "print(f\"   - comprehensive_stress_test(...)\")\n",
        "\n",
        "# Example usage prompts\n",
        "print(f\"\\n💡 QUICK START EXAMPLES:\")\n",
        "print(f\"   # Compare observers:\")\n",
        "print(f\"   comparison_results = run_observer_comparison('The old man the boats.')\")\n",
        "print(f\"   \")\n",
        "print(f\"   # Try a classic example:\")\n",
        "print(f\"   demonstrate_example('buffalo')\")\n",
        "print(f\"   \")\n",
        "print(f\"   # Test garden path:\")\n",
        "print(f\"   demonstrate_example('horse raced')\")\n"
      ],
      "metadata": {
        "colab": {
          "base_uri": "https://localhost:8080/"
        },
        "id": "y-0A998kxhgF",
        "outputId": "52406d44-bb70-4f48-ed26-e34016367622"
      },
      "execution_count": 25,
      "outputs": [
        {
          "output_type": "stream",
          "name": "stdout",
          "text": [
            "\n",
            "============================================================\n",
            "🎯 ENHANCED PLAYGROUND ANALYSIS COMPLETE\n",
            "============================================================\n",
            "\n",
            "📊 RESULTS SUMMARY:\n",
            "   ✅ ODER fit successful\n",
            "   📈 Quality: R² = 0.620\n",
            "   ⚡ Retrieval: γ = 3.441\n",
            "   🕐 Processing: τ_char = 200.0\n",
            "   🎯 Collapse: Token 5\n",
            "\n",
            "🧪 VALIDATION STATUS:\n",
            "   ⚠️ 3 validation issues detected\n",
            "   🔧 See stress test results for details\n",
            "\n",
            "💡 NEXT STEPS:\n",
            "   1. 🔄 Try different sentences to explore parameter space\n",
            "   2. 👥 Use comparison mode to see observer differences\n",
            "   3. 📚 Load examples with demonstrate_example('keyword')\n",
            "   4. 📊 Export sessions for batch analysis in main notebook\n",
            "   5. 🎨 Examine residual plots for model validation\n",
            "\n",
            "🚀 ODER Interactive Playground Ready!\n",
            "📖 Available functions:\n",
            "   - run_observer_comparison(sentence, language)\n",
            "   - demonstrate_example('keyword')\n",
            "   - export_playground_session(...)\n",
            "   - comprehensive_stress_test(...)\n",
            "\n",
            "💡 QUICK START EXAMPLES:\n",
            "   # Compare observers:\n",
            "   comparison_results = run_observer_comparison('The old man the boats.')\n",
            "   \n",
            "   # Try a classic example:\n",
            "   demonstrate_example('buffalo')\n",
            "   \n",
            "   # Test garden path:\n",
            "   demonstrate_example('horse raced')\n"
          ]
        }
      ]
    }
  ]
}